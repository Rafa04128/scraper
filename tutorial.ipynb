{
 "cells": [
  {
   "cell_type": "code",
   "execution_count": 8,
   "metadata": {},
   "outputs": [],
   "source": [
    "from bs4 import BeautifulSoup\n",
    "import pandas as pd\n",
    "import requests\n",
    "from selenium import webdriver\n",
    "from selenium.webdriver.chrome.options import Options\n",
    "from selenium import webdriver\n",
    "from selenium.webdriver.chrome.service import Service as ChromeService\n",
    "import sys\n",
    "from bs4 import BeautifulSoup\n",
    "from selenium.webdriver.common.by import By\n",
    "from selenium.webdriver.support.ui import WebDriverWait\n",
    "from selenium.webdriver.support import expected_conditions as EC\n",
    "from selenium.common.exceptions import TimeoutException, NoSuchElementException\n",
    "import time"
   ]
  },
  {
   "cell_type": "code",
   "execution_count": 15,
   "metadata": {},
   "outputs": [
    {
     "name": "stdout",
     "output_type": "stream",
     "text": [
      "bet365 - Apuestas deportivas en la red\n",
      "Error: Message: no such element: Unable to locate element: {\"method\":\"css selector\",\"selector\":\"..hm-MainHeaderRHSLoggedOutMed_Login \"}\n",
      "  (Session info: chrome=120.0.6099.72); For documentation on this error, please visit: https://www.selenium.dev/documentation/webdriver/troubleshooting/errors#no-such-element-exception\n",
      "Stacktrace:\n",
      "\tGetHandleVerifier [0x00007FF7C2514D02+56194]\n",
      "\t(No symbol) [0x00007FF7C24804B2]\n",
      "\t(No symbol) [0x00007FF7C23276AA]\n",
      "\t(No symbol) [0x00007FF7C23716D0]\n",
      "\t(No symbol) [0x00007FF7C23717EC]\n",
      "\t(No symbol) [0x00007FF7C23B4D77]\n",
      "\t(No symbol) [0x00007FF7C2395EBF]\n",
      "\t(No symbol) [0x00007FF7C23B2786]\n",
      "\t(No symbol) [0x00007FF7C2395C23]\n",
      "\t(No symbol) [0x00007FF7C2364A45]\n",
      "\t(No symbol) [0x00007FF7C2365AD4]\n",
      "\tGetHandleVerifier [0x00007FF7C288D5BB+3695675]\n",
      "\tGetHandleVerifier [0x00007FF7C28E6197+4059159]\n",
      "\tGetHandleVerifier [0x00007FF7C28DDF63+4025827]\n",
      "\tGetHandleVerifier [0x00007FF7C25AF029+687785]\n",
      "\t(No symbol) [0x00007FF7C248B508]\n",
      "\t(No symbol) [0x00007FF7C2487564]\n",
      "\t(No symbol) [0x00007FF7C24876E9]\n",
      "\t(No symbol) [0x00007FF7C2478094]\n",
      "\tBaseThreadInitThunk [0x00007FFEBAA77344+20]\n",
      "\tRtlUserThreadStart [0x00007FFEBB7426B1+33]\n",
      ". Element not found.\n"
     ]
    }
   ],
   "source": [
    "\n",
    "try:\n",
    "    driver = webdriver.Chrome()\n",
    "\n",
    "    driver.get(\"https://www.bet365.com/#/AC/B18/C20888701/D1/E90187283/F2/\")\n",
    "\n",
    "    title = driver.title\n",
    "    print(title)\n",
    "    driver.implicitly_wait(5)\n",
    "    # Click log in\n",
    "    text_box = driver.find_element(by=By.CLASS_NAME, value=\".hm-MainHeaderRHSLoggedOutMed_Login \")\n",
    "    text_box.click()\n",
    "    print(\"log in click made!\")\n",
    "    driver.implicitly_wait(5)\n",
    "\n",
    "    # Input username and password\n",
    "    usern = \"RafaAurelius\"\n",
    "    passw = \"21126ac8\"\n",
    "\n",
    "    user_field = driver.find_element(By.CLASS_NAME, value=\".lms-StandardLogin_Username\")\n",
    "    passw_field = driver.find_element(By.CLASS_NAME, value=\".lms-StandardLogin_Password\")\n",
    "    print(\"Log in and password fields located.\")\n",
    "\n",
    "    user_field.send_keys(usern)\n",
    "    passw_field.send_keys(passw)\n",
    "    print(\"Values pasted\")\n",
    "    driver.implicitly_wait(1)\n",
    "\n",
    "    submit_button = driver.find_element(by=By.CLASS_NAME, value=\".lms-LoginButton_Text\")\n",
    "    submit_button.click()\n",
    "    driver.implicitly_wait(1)\n",
    "\n",
    "except NoSuchElementException as e:\n",
    "    print(f\"Error: {e}. Element not found.\")\n",
    "    \n",
    "finally:\n",
    "    "
   ]
  },
  {
   "cell_type": "code",
   "execution_count": null,
   "metadata": {},
   "outputs": [],
   "source": []
  }
 ],
 "metadata": {
  "kernelspec": {
   "display_name": "venv",
   "language": "python",
   "name": "python3"
  },
  "language_info": {
   "codemirror_mode": {
    "name": "ipython",
    "version": 3
   },
   "file_extension": ".py",
   "mimetype": "text/x-python",
   "name": "python",
   "nbconvert_exporter": "python",
   "pygments_lexer": "ipython3",
   "version": "3.11.6"
  }
 },
 "nbformat": 4,
 "nbformat_minor": 2
}
