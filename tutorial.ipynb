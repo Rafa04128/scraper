{
 "cells": [
  {
   "cell_type": "code",
   "execution_count": 1,
   "metadata": {},
   "outputs": [],
   "source": [
    "from bs4 import BeautifulSoup\n",
    "import pandas as pd\n",
    "import requests\n",
    "from selenium import webdriver\n",
    "from selenium.webdriver.chrome.options import Options\n",
    "from selenium import webdriver\n",
    "from selenium.webdriver.chrome.service import Service as ChromeService\n",
    "import sys\n",
    "from bs4 import BeautifulSoup\n",
    "from selenium.webdriver.common.by import By\n",
    "from selenium.webdriver.support.ui import WebDriverWait\n",
    "from selenium.webdriver.support import expected_conditions as EC\n",
    "from selenium.common.exceptions import TimeoutException\n",
    "import time"
   ]
  },
  {
   "cell_type": "code",
   "execution_count": null,
   "metadata": {},
   "outputs": [],
   "source": [
    "user = \"RafaAurelius\"\n",
    "passw = \"21126ac8\""
   ]
  },
  {
   "cell_type": "code",
   "execution_count": 8,
   "metadata": {},
   "outputs": [
    {
     "ename": "NoSuchElementException",
     "evalue": "Message: no such element: Unable to locate element: {\"method\":\"xpath\",\"selector\":\"/html/body/div[1]/div/div[4]/div[2]/div/div[4]/div[5]/div[2]\"}\n  (Session info: chrome=120.0.6099.71); For documentation on this error, please visit: https://www.selenium.dev/documentation/webdriver/troubleshooting/errors#no-such-element-exception\nStacktrace:\n\tGetHandleVerifier [0x00007FF63BD84D02+56194]\n\t(No symbol) [0x00007FF63BCF04B2]\n\t(No symbol) [0x00007FF63BB976AA]\n\t(No symbol) [0x00007FF63BBE16D0]\n\t(No symbol) [0x00007FF63BBE17EC]\n\t(No symbol) [0x00007FF63BC24D77]\n\t(No symbol) [0x00007FF63BC05EBF]\n\t(No symbol) [0x00007FF63BC22786]\n\t(No symbol) [0x00007FF63BC05C23]\n\t(No symbol) [0x00007FF63BBD4A45]\n\t(No symbol) [0x00007FF63BBD5AD4]\n\tGetHandleVerifier [0x00007FF63C0FD5BB+3695675]\n\tGetHandleVerifier [0x00007FF63C156197+4059159]\n\tGetHandleVerifier [0x00007FF63C14DF63+4025827]\n\tGetHandleVerifier [0x00007FF63BE1F029+687785]\n\t(No symbol) [0x00007FF63BCFB508]\n\t(No symbol) [0x00007FF63BCF7564]\n\t(No symbol) [0x00007FF63BCF76E9]\n\t(No symbol) [0x00007FF63BCE8094]\n\tBaseThreadInitThunk [0x00007FFEBAA77344+20]\n\tRtlUserThreadStart [0x00007FFEBB7426B1+33]\n",
     "output_type": "error",
     "traceback": [
      "\u001b[1;31m---------------------------------------------------------------------------\u001b[0m",
      "\u001b[1;31mNoSuchElementException\u001b[0m                    Traceback (most recent call last)",
      "Cell \u001b[1;32mIn[8], line 7\u001b[0m\n\u001b[0;32m      4\u001b[0m driver\u001b[38;5;241m.\u001b[39mget(url)\n\u001b[0;32m      5\u001b[0m wait \u001b[38;5;241m=\u001b[39m WebDriverWait(driver, \u001b[38;5;241m10\u001b[39m)\n\u001b[1;32m----> 7\u001b[0m login_button \u001b[38;5;241m=\u001b[39m \u001b[43mdriver\u001b[49m\u001b[38;5;241;43m.\u001b[39;49m\u001b[43mfind_element\u001b[49m\u001b[43m(\u001b[49m\u001b[43mBy\u001b[49m\u001b[38;5;241;43m.\u001b[39;49m\u001b[43mXPATH\u001b[49m\u001b[43m,\u001b[49m\u001b[43m \u001b[49m\u001b[38;5;124;43m\"\u001b[39;49m\u001b[38;5;124;43m/html/body/div[1]/div/div[4]/div[2]/div/div[4]/div[5]/div[2]\u001b[39;49m\u001b[38;5;124;43m\"\u001b[39;49m\u001b[43m)\u001b[49m\n\u001b[0;32m      8\u001b[0m login_button\u001b[38;5;241m.\u001b[39mclick()\n\u001b[0;32m      9\u001b[0m time\u001b[38;5;241m.\u001b[39msleep(\u001b[38;5;241m3\u001b[39m)\n",
      "File \u001b[1;32mc:\\Users\\LINES\\Desktop\\project\\scraper\\venv\\Lib\\site-packages\\selenium\\webdriver\\remote\\webdriver.py:742\u001b[0m, in \u001b[0;36mWebDriver.find_element\u001b[1;34m(self, by, value)\u001b[0m\n\u001b[0;32m    739\u001b[0m     by \u001b[38;5;241m=\u001b[39m By\u001b[38;5;241m.\u001b[39mCSS_SELECTOR\n\u001b[0;32m    740\u001b[0m     value \u001b[38;5;241m=\u001b[39m \u001b[38;5;124mf\u001b[39m\u001b[38;5;124m'\u001b[39m\u001b[38;5;124m[name=\u001b[39m\u001b[38;5;124m\"\u001b[39m\u001b[38;5;132;01m{\u001b[39;00mvalue\u001b[38;5;132;01m}\u001b[39;00m\u001b[38;5;124m\"\u001b[39m\u001b[38;5;124m]\u001b[39m\u001b[38;5;124m'\u001b[39m\n\u001b[1;32m--> 742\u001b[0m \u001b[38;5;28;01mreturn\u001b[39;00m \u001b[38;5;28;43mself\u001b[39;49m\u001b[38;5;241;43m.\u001b[39;49m\u001b[43mexecute\u001b[49m\u001b[43m(\u001b[49m\u001b[43mCommand\u001b[49m\u001b[38;5;241;43m.\u001b[39;49m\u001b[43mFIND_ELEMENT\u001b[49m\u001b[43m,\u001b[49m\u001b[43m \u001b[49m\u001b[43m{\u001b[49m\u001b[38;5;124;43m\"\u001b[39;49m\u001b[38;5;124;43musing\u001b[39;49m\u001b[38;5;124;43m\"\u001b[39;49m\u001b[43m:\u001b[49m\u001b[43m \u001b[49m\u001b[43mby\u001b[49m\u001b[43m,\u001b[49m\u001b[43m \u001b[49m\u001b[38;5;124;43m\"\u001b[39;49m\u001b[38;5;124;43mvalue\u001b[39;49m\u001b[38;5;124;43m\"\u001b[39;49m\u001b[43m:\u001b[49m\u001b[43m \u001b[49m\u001b[43mvalue\u001b[49m\u001b[43m}\u001b[49m\u001b[43m)\u001b[49m[\u001b[38;5;124m\"\u001b[39m\u001b[38;5;124mvalue\u001b[39m\u001b[38;5;124m\"\u001b[39m]\n",
      "File \u001b[1;32mc:\\Users\\LINES\\Desktop\\project\\scraper\\venv\\Lib\\site-packages\\selenium\\webdriver\\remote\\webdriver.py:348\u001b[0m, in \u001b[0;36mWebDriver.execute\u001b[1;34m(self, driver_command, params)\u001b[0m\n\u001b[0;32m    346\u001b[0m response \u001b[38;5;241m=\u001b[39m \u001b[38;5;28mself\u001b[39m\u001b[38;5;241m.\u001b[39mcommand_executor\u001b[38;5;241m.\u001b[39mexecute(driver_command, params)\n\u001b[0;32m    347\u001b[0m \u001b[38;5;28;01mif\u001b[39;00m response:\n\u001b[1;32m--> 348\u001b[0m     \u001b[38;5;28;43mself\u001b[39;49m\u001b[38;5;241;43m.\u001b[39;49m\u001b[43merror_handler\u001b[49m\u001b[38;5;241;43m.\u001b[39;49m\u001b[43mcheck_response\u001b[49m\u001b[43m(\u001b[49m\u001b[43mresponse\u001b[49m\u001b[43m)\u001b[49m\n\u001b[0;32m    349\u001b[0m     response[\u001b[38;5;124m\"\u001b[39m\u001b[38;5;124mvalue\u001b[39m\u001b[38;5;124m\"\u001b[39m] \u001b[38;5;241m=\u001b[39m \u001b[38;5;28mself\u001b[39m\u001b[38;5;241m.\u001b[39m_unwrap_value(response\u001b[38;5;241m.\u001b[39mget(\u001b[38;5;124m\"\u001b[39m\u001b[38;5;124mvalue\u001b[39m\u001b[38;5;124m\"\u001b[39m, \u001b[38;5;28;01mNone\u001b[39;00m))\n\u001b[0;32m    350\u001b[0m     \u001b[38;5;28;01mreturn\u001b[39;00m response\n",
      "File \u001b[1;32mc:\\Users\\LINES\\Desktop\\project\\scraper\\venv\\Lib\\site-packages\\selenium\\webdriver\\remote\\errorhandler.py:229\u001b[0m, in \u001b[0;36mErrorHandler.check_response\u001b[1;34m(self, response)\u001b[0m\n\u001b[0;32m    227\u001b[0m         alert_text \u001b[38;5;241m=\u001b[39m value[\u001b[38;5;124m\"\u001b[39m\u001b[38;5;124malert\u001b[39m\u001b[38;5;124m\"\u001b[39m]\u001b[38;5;241m.\u001b[39mget(\u001b[38;5;124m\"\u001b[39m\u001b[38;5;124mtext\u001b[39m\u001b[38;5;124m\"\u001b[39m)\n\u001b[0;32m    228\u001b[0m     \u001b[38;5;28;01mraise\u001b[39;00m exception_class(message, screen, stacktrace, alert_text)  \u001b[38;5;66;03m# type: ignore[call-arg]  # mypy is not smart enough here\u001b[39;00m\n\u001b[1;32m--> 229\u001b[0m \u001b[38;5;28;01mraise\u001b[39;00m exception_class(message, screen, stacktrace)\n",
      "\u001b[1;31mNoSuchElementException\u001b[0m: Message: no such element: Unable to locate element: {\"method\":\"xpath\",\"selector\":\"/html/body/div[1]/div/div[4]/div[2]/div/div[4]/div[5]/div[2]\"}\n  (Session info: chrome=120.0.6099.71); For documentation on this error, please visit: https://www.selenium.dev/documentation/webdriver/troubleshooting/errors#no-such-element-exception\nStacktrace:\n\tGetHandleVerifier [0x00007FF63BD84D02+56194]\n\t(No symbol) [0x00007FF63BCF04B2]\n\t(No symbol) [0x00007FF63BB976AA]\n\t(No symbol) [0x00007FF63BBE16D0]\n\t(No symbol) [0x00007FF63BBE17EC]\n\t(No symbol) [0x00007FF63BC24D77]\n\t(No symbol) [0x00007FF63BC05EBF]\n\t(No symbol) [0x00007FF63BC22786]\n\t(No symbol) [0x00007FF63BC05C23]\n\t(No symbol) [0x00007FF63BBD4A45]\n\t(No symbol) [0x00007FF63BBD5AD4]\n\tGetHandleVerifier [0x00007FF63C0FD5BB+3695675]\n\tGetHandleVerifier [0x00007FF63C156197+4059159]\n\tGetHandleVerifier [0x00007FF63C14DF63+4025827]\n\tGetHandleVerifier [0x00007FF63BE1F029+687785]\n\t(No symbol) [0x00007FF63BCFB508]\n\t(No symbol) [0x00007FF63BCF7564]\n\t(No symbol) [0x00007FF63BCF76E9]\n\t(No symbol) [0x00007FF63BCE8094]\n\tBaseThreadInitThunk [0x00007FFEBAA77344+20]\n\tRtlUserThreadStart [0x00007FFEBB7426B1+33]\n"
     ]
    }
   ],
   "source": [
    "\n",
    "\n",
    "driver = webdriver.Chrome()\n",
    "# Example: Visit a website\n",
    "url = r'https://www.bet365.com/#/AC/B18/C20888701/D1/E90187283/F2/'\n",
    "driver.get(url)\n",
    "wait = WebDriverWait(driver, 10)\n",
    "\n",
    "login_button = driver.find_element(By.CLASS_NAME, \"hm-MainHeaderRHSLoggedOutNarrow_Login\")\n",
    "login_button.click()\n",
    "time.sleep(3)\n",
    "username_input = driver.find_element(By.XPATH, \"lms-StandardLogin_Username\")\n",
    "password_input = driver.find_element(By.XPATH, \"lms-StandardLogin_Username\")\n",
    "\n",
    "# Enter your username and password\n",
    "username_input.send_keys(user)\n",
    "password_input.send_keys(passw)\n",
    "\n",
    "enter = driver.find_element(By.CLASS_NAME, \"lms-LoginButton_Text\")\n",
    "enter.click()\n",
    "\n",
    "#cookies = driver.get_cookies()\n",
    "#print(\"Cookies before accepting:\", cookies)\n",
    "#driver.delete_all_cookies()\n",
    "#print(\"Cookies after accepting:\", driver.get_cookies())\n",
    "\n"
   ]
  },
  {
   "cell_type": "code",
   "execution_count": null,
   "metadata": {},
   "outputs": [],
   "source": [
    "wait = WebDriverWait(driver, 10)\n"
   ]
  }
 ],
 "metadata": {
  "kernelspec": {
   "display_name": "venv",
   "language": "python",
   "name": "python3"
  },
  "language_info": {
   "codemirror_mode": {
    "name": "ipython",
    "version": 3
   },
   "file_extension": ".py",
   "mimetype": "text/x-python",
   "name": "python",
   "nbconvert_exporter": "python",
   "pygments_lexer": "ipython3",
   "version": "3.11.6"
  }
 },
 "nbformat": 4,
 "nbformat_minor": 2
}
