{
 "cells": [
  {
   "cell_type": "code",
   "execution_count": 2,
   "metadata": {},
   "outputs": [],
   "source": [
    "from selenium.webdriver.common.by import By\n",
    "from selenium.webdriver.support.ui import WebDriverWait\n",
    "from selenium.webdriver.support import expected_conditions as EC\n",
    "from selenium.webdriver.chrome.service import Service as ChromeService\n",
    "from selenium import webdriver"
   ]
  },
  {
   "cell_type": "code",
   "execution_count": 11,
   "metadata": {},
   "outputs": [],
   "source": [
    "# ...\n",
    "driver = webdriver.Chrome()\n",
    "cookies = driver.get_cookies()\n",
    "wait = WebDriverWait(driver, 10)\n",
    "url = r'https://www.bet365.com/#/AC/B18/C20888701/D1/E90187283/F2/'\n",
    "driver.get(url)\n",
    "\n",
    "\n"
   ]
  },
  {
   "cell_type": "code",
   "execution_count": null,
   "metadata": {},
   "outputs": [],
   "source": [
    "cookies = wait.until(EC.presence_of_element_located((By.CLASS_NAME, \"ccm-CookieConsentPopup_Accept\")))\n",
    "cookies.click()\n",
    "\n",
    "loginbtn = wait.until(EC.presence_of_element_located((By.CLASS_NAME, \"hm-MainHeaderRHSLoggedOutWide_Login\")))\n",
    "loginbtn.click()"
   ]
  }
 ],
 "metadata": {
  "kernelspec": {
   "display_name": "venv",
   "language": "python",
   "name": "python3"
  },
  "language_info": {
   "codemirror_mode": {
    "name": "ipython",
    "version": 3
   },
   "file_extension": ".py",
   "mimetype": "text/x-python",
   "name": "python",
   "nbconvert_exporter": "python",
   "pygments_lexer": "ipython3",
   "version": "3.11.6"
  }
 },
 "nbformat": 4,
 "nbformat_minor": 2
}
