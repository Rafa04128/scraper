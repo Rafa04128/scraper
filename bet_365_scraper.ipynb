{
 "cells": [
  {
   "cell_type": "code",
   "execution_count": 19,
   "metadata": {},
   "outputs": [],
   "source": [
    "from bs4 import BeautifulSoup\n",
    "import pandas as pd\n",
    "import requests\n",
    "from selenium import webdriver\n",
    "from selenium.webdriver.chrome.options import Options\n",
    "from selenium import webdriver\n",
    "from selenium.webdriver.chrome.service import Service as ChromeService\n",
    "import sys\n",
    "from bs4 import BeautifulSoup\n",
    "from selenium.webdriver.common.by import By\n",
    "from selenium.webdriver.support.ui import WebDriverWait\n",
    "from selenium.webdriver.support import expected_conditions as EC\n",
    "from selenium.common.exceptions import TimeoutException\n",
    "import time"
   ]
  },
  {
   "cell_type": "code",
   "execution_count": 24,
   "metadata": {},
   "outputs": [],
   "source": []
  },
  {
   "cell_type": "code",
   "execution_count": 21,
   "metadata": {},
   "outputs": [],
   "source": [
    "# Configure Chrome options for headless mode\n",
    "chrome_options = Options()\n",
    "chrome_options.add_argument('--headless')  # Run in headless mode without a GUI\n",
    "chrome_options.add_argument('--disable-gpu')  # Disable GPU acceleration, may be needed in some environments\n",
    "\n",
    "# Pass options and executable path to the Chrome driver\n",
    "\n",
    "driver = webdriver.Chrome()\n",
    "# Example: Visit a website\n",
    "url = r'https://www.bet365.com/#/AC/B18/C20888701/D1/E90187283/F2/'\n",
    "driver.get(url)\n",
    "\n",
    "time.sleep(3)\n",
    "\n",
    "# Your scraping logic goes here\n",
    "try:\n",
    "    cookie_accept_button = WebDriverWait(driver, 30).until(\n",
    "        EC.element_to_be_clickable((By.ID, \"cookie-accept-button\"))\n",
    "    )\n",
    "\n",
    "    # Click the \"Accept Cookies\" button\n",
    "    cookie_accept_button.click()\n",
    "\n",
    "except Exception as e:\n",
    "    print(f\"Error accepting cookies: {e}\")\n",
    "\n",
    "try:\n",
    "    # Wait for the element to be present before attempting to find it\n",
    "    element = WebDriverWait(driver, 30).until(\n",
    "        EC.presence_of_element_located((By.CLASS_NAME, \"src-FixtureSubGroupWithShowMore\"))\n",
    "    )\n",
    "\n",
    "    # Click the \"Accept Cookies\" button\n",
    "   \n",
    "    # Extract the HTML content of the element\n",
    "    html_content = element.get_attribute(\"outerHTML\")\n",
    "\n",
    "    # Parse the HTML content with BeautifulSoup\n",
    "    soup = BeautifulSoup(html_content, 'html.parser')\n",
    "\n",
    "    # Extract the desired information using BeautifulSoup\n",
    "    # For example, extracting the text content of the element\n",
    "    text_content = soup.get_text()\n",
    "\n",
    "    # Print or use the extracted content\n",
    "    print(text_content)\n",
    "\n",
    "except TimeoutException:\n",
    "    print(\"Timeout: Element not found within the specified time.\")\n",
    "\n",
    "finally:\n",
    "    # Close the browser window\n",
    "    driver.quit()"
   ]
  },
  {
   "cell_type": "code",
   "execution_count": 7,
   "metadata": {},
   "outputs": [
    {
     "name": "stdout",
     "output_type": "stream",
     "text": [
      "Login failed.\n"
     ]
    }
   ],
   "source": []
  },
  {
   "cell_type": "markdown",
   "metadata": {},
   "source": []
  }
 ],
 "metadata": {
  "kernelspec": {
   "display_name": "venv",
   "language": "python",
   "name": "python3"
  },
  "language_info": {
   "codemirror_mode": {
    "name": "ipython",
    "version": 3
   },
   "file_extension": ".py",
   "mimetype": "text/x-python",
   "name": "python",
   "nbconvert_exporter": "python",
   "pygments_lexer": "ipython3",
   "version": "3.11.6"
  }
 },
 "nbformat": 4,
 "nbformat_minor": 2
}
