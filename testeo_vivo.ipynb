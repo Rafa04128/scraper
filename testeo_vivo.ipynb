{
 "cells": [
  {
   "cell_type": "code",
   "execution_count": 1,
   "metadata": {},
   "outputs": [],
   "source": [
    "from selenium import webdriver\n",
    "from selenium.common.exceptions import NoSuchElementException, TimeoutException\n",
    "from selenium.webdriver.support.ui import WebDriverWait\n",
    "from selenium.webdriver.support import expected_conditions as EC\n",
    "from selenium.webdriver.common.by import By"
   ]
  },
  {
   "cell_type": "code",
   "execution_count": null,
   "metadata": {},
   "outputs": [],
   "source": [
    "# Define custom exception for login failure\n",
    "class LoginFailureException(Exception):\n",
    "    pass\n",
    "\n",
    "try:\n",
    "    # Open Chrome and navigate to the URL\n",
    "    driver = webdriver.Chrome()\n",
    "    driver.get(\"https://www.bet365.com/#/AC/B18/C20888701/D1/E90187283/F2/\")\n",
    "\n",
    "    # Print page title for reference\n",
    "    print(f\"Page title: {driver.title}\")\n",
    "\n",
    "    # Implicit wait of 5 seconds\n",
    "    driver.implicitly_wait(5)\n",
    "\n",
    "    # Click log in button\n",
    "    try:\n",
    "        # Use explicit wait for element to be clickable\n",
    "        WebDriverWait(driver, 10).until(EC.element_to_be_clickable((By.CLASS_NAME, \"hm-MainHeaderRHSLoggedOutMed_Login\")))\n",
    "        login_button = driver.find_element(By.CLASS_NAME, \"hm-MainHeaderRHSLoggedOutMed_Login\")\n",
    "        login_button.click()\n",
    "        print(\"Log in button clicked.\")\n",
    "    except TimeoutException:\n",
    "        raise LoginFailureException(\"Login button not clickable.\")\n",
    "\n",
    "    # Implicit wait of 5 seconds\n",
    "    driver.implicitly_wait(5)\n",
    "\n",
    "    # Locate username and password fields\n",
    "    try:\n",
    "        username_field = driver.find_element(By.CLASS_NAME, \"lms-StandardLogin_Username\")\n",
    "        password_field = driver.find_element(By.CLASS_NAME, \"lms-StandardLogin_Password\")\n",
    "        print(\"Log in and password fields located.\")\n",
    "    except NoSuchElementException:\n",
    "        raise LoginFailureException(\"Log in fields not found.\")\n",
    "\n",
    "    # Enter username and password\n",
    "    username_field.send_keys(\"RafaAurelius\")\n",
    "    password_field.send_keys(\"21126ac8\")\n",
    "    print(\"Username and password entered.\")\n",
    "\n",
    "    # Click submit button\n",
    "    try:\n",
    "        submit_button = driver.find_element(By.CLASS_NAME, \"lms-LoginButton_Text\")\n",
    "        submit_button.click()\n",
    "        print(\"Submit button clicked.\")\n",
    "    except NoSuchElementException:\n",
    "        raise LoginFailureException(\"Submit button not found.\")\n",
    "\n",
    "except LoginFailureException as e:\n",
    "    print(f\"Login failed: {e}\")\n",
    "\n",
    "finally:\n",
    "    # Quit Chrome driver\n",
    "    driver.quit()"
   ]
  }
 ],
 "metadata": {
  "kernelspec": {
   "display_name": "venv",
   "language": "python",
   "name": "python3"
  },
  "language_info": {
   "codemirror_mode": {
    "name": "ipython",
    "version": 3
   },
   "file_extension": ".py",
   "mimetype": "text/x-python",
   "name": "python",
   "nbconvert_exporter": "python",
   "pygments_lexer": "ipython3",
   "version": "3.11.6"
  }
 },
 "nbformat": 4,
 "nbformat_minor": 2
}
